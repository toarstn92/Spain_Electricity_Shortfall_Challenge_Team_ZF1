{
 "cells": [
  {
   "cell_type": "code",
   "execution_count": 113,
   "id": "f8bcfd40-dbcf-45d7-8ca4-776b44d80558",
   "metadata": {
    "ExecuteTime": {
     "end_time": "2021-06-23T10:30:53.800892Z",
     "start_time": "2021-06-23T10:30:50.215449Z"
    }
   },
   "outputs": [],
   "source": [
    "# Libraries for data loading, data manipulation and data visulisation\n",
    "import numpy as np \n",
    "import pandas as pd\n",
    "import matplotlib.pyplot as plt\n",
    "import seaborn as sns\n",
    "plt.style.use('fivethirtyeight')\n",
    "import warnings\n",
    "warnings.filterwarnings('ignore')\n",
    "%matplotlib inline\n",
    "\n",
    "# Libraries for data preparation and model building\n",
    "import statsmodels.graphics.api as sga\n",
    "import statsmodels.formula.api as sfa\n",
    "from scipy.stats import pearsonr\n",
    "from sklearn.linear_model import LinearRegression, Ridge, Lasso\n",
    "from sklearn.model_selection import train_test_split\n",
    "from sklearn.preprocessing import MinMaxScaler, StandardScaler\n",
    "from sklearn.feature_selection import VarianceThreshold\n",
    "from sklearn.metrics import mean_squared_error, r2_score\n",
    "from sklearn.ensemble import RandomForestRegressor\n",
    "\n",
    "# print multiple outputs in a cell\n",
    "from IPython.core.interactiveshell import InteractiveShell\n",
    "InteractiveShell.ast_node_interactivity = 'all'\n",
    "\n",
    "# Setting global constants to ensure notebook results are reproducible\n",
    "# PARAMETER_CONSTANT = ###"
   ]
  },
  {
   "cell_type": "markdown",
   "id": "4f9ab6cf-4159-490c-b051-0def6bfbb9c9",
   "metadata": {
    "jp-MarkdownHeadingCollapsed": true,
    "tags": []
   },
   "source": [
    "## Rationale to selecting predictor variables"
   ]
  },
  {
   "cell_type": "code",
   "execution_count": 199,
   "id": "eab1e8de-e2dc-4b9f-8d17-929a5bef24f7",
   "metadata": {
    "ExecuteTime": {
     "end_time": "2021-06-28T08:49:35.311495Z",
     "start_time": "2021-06-28T08:49:35.295494Z"
    }
   },
   "outputs": [
    {
     "name": "stdout",
     "output_type": "stream",
     "text": [
      "There are 8763 rows and 49 columns before\n",
      "There are 8763 rows and 48 columns after\n"
     ]
    },
    {
     "data": {
      "text/html": [
       "<div>\n",
       "<style scoped>\n",
       "    .dataframe tbody tr th:only-of-type {\n",
       "        vertical-align: middle;\n",
       "    }\n",
       "\n",
       "    .dataframe tbody tr th {\n",
       "        vertical-align: top;\n",
       "    }\n",
       "\n",
       "    .dataframe thead th {\n",
       "        text-align: right;\n",
       "    }\n",
       "</style>\n",
       "<table border=\"1\" class=\"dataframe\">\n",
       "  <thead>\n",
       "    <tr style=\"text-align: right;\">\n",
       "      <th></th>\n",
       "      <th>time</th>\n",
       "      <th>Madrid_wind_speed</th>\n",
       "      <th>Valencia_wind_deg</th>\n",
       "      <th>Bilbao_rain_1h</th>\n",
       "      <th>Valencia_wind_speed</th>\n",
       "      <th>Seville_humidity</th>\n",
       "      <th>Madrid_humidity</th>\n",
       "      <th>Bilbao_clouds_all</th>\n",
       "      <th>Bilbao_wind_speed</th>\n",
       "      <th>Seville_clouds_all</th>\n",
       "      <th>...</th>\n",
       "      <th>Madrid_temp_max</th>\n",
       "      <th>Barcelona_temp</th>\n",
       "      <th>Bilbao_temp_min</th>\n",
       "      <th>Bilbao_temp</th>\n",
       "      <th>Barcelona_temp_min</th>\n",
       "      <th>Bilbao_temp_max</th>\n",
       "      <th>Seville_temp_min</th>\n",
       "      <th>Madrid_temp</th>\n",
       "      <th>Madrid_temp_min</th>\n",
       "      <th>load_shortfall_3h</th>\n",
       "    </tr>\n",
       "  </thead>\n",
       "  <tbody>\n",
       "    <tr>\n",
       "      <th>0</th>\n",
       "      <td>2015-01-01 03:00:00</td>\n",
       "      <td>0.666667</td>\n",
       "      <td>level_5</td>\n",
       "      <td>0.0</td>\n",
       "      <td>0.666667</td>\n",
       "      <td>74.333333</td>\n",
       "      <td>64.0</td>\n",
       "      <td>0.0</td>\n",
       "      <td>1.0</td>\n",
       "      <td>0.0</td>\n",
       "      <td>...</td>\n",
       "      <td>265.938</td>\n",
       "      <td>281.013</td>\n",
       "      <td>269.338615</td>\n",
       "      <td>269.338615</td>\n",
       "      <td>281.013</td>\n",
       "      <td>269.338615</td>\n",
       "      <td>274.254667</td>\n",
       "      <td>265.938</td>\n",
       "      <td>265.938</td>\n",
       "      <td>6715.666667</td>\n",
       "    </tr>\n",
       "  </tbody>\n",
       "</table>\n",
       "<p>1 rows × 48 columns</p>\n",
       "</div>"
      ],
      "text/plain": [
       "                  time  Madrid_wind_speed Valencia_wind_deg  Bilbao_rain_1h  \\\n",
       "0  2015-01-01 03:00:00           0.666667           level_5             0.0   \n",
       "\n",
       "   Valencia_wind_speed  Seville_humidity  Madrid_humidity  Bilbao_clouds_all  \\\n",
       "0             0.666667         74.333333             64.0                0.0   \n",
       "\n",
       "   Bilbao_wind_speed  Seville_clouds_all  ...  Madrid_temp_max  \\\n",
       "0                1.0                 0.0  ...          265.938   \n",
       "\n",
       "   Barcelona_temp  Bilbao_temp_min  Bilbao_temp  Barcelona_temp_min  \\\n",
       "0         281.013       269.338615   269.338615             281.013   \n",
       "\n",
       "   Bilbao_temp_max Seville_temp_min  Madrid_temp  Madrid_temp_min  \\\n",
       "0       269.338615       274.254667      265.938          265.938   \n",
       "\n",
       "   load_shortfall_3h  \n",
       "0        6715.666667  \n",
       "\n",
       "[1 rows x 48 columns]"
      ]
     },
     "execution_count": 199,
     "metadata": {},
     "output_type": "execute_result"
    },
    {
     "name": "stdout",
     "output_type": "stream",
     "text": [
      "\n",
      "\n"
     ]
    }
   ],
   "source": [
    "df1 = pd.read_csv(\"df_train.csv\")\n",
    "print(f\"There are {df1.shape[0]} rows and {df1.shape[1]} columns before\")\n",
    "\n",
    "# Remove unnecessary column(s)\n",
    "\n",
    "df_train = df1.drop(labels=\"Unnamed: 0\", axis=1)\n",
    "print(f\"There are {df_train.shape[0]} rows and {df_train.shape[1]} columns after\")\n",
    "df_train.head(1)\n",
    "print('', end=\"\\n\\n\")"
   ]
  },
  {
   "cell_type": "code",
   "execution_count": 200,
   "id": "3c27b284-a476-4aa7-8392-cfac4925fa46",
   "metadata": {
    "ExecuteTime": {
     "end_time": "2021-06-28T08:52:37.824204Z",
     "start_time": "2021-06-28T08:52:37.811206Z"
    }
   },
   "outputs": [
    {
     "name": "stdout",
     "output_type": "stream",
     "text": [
      "\n",
      "\n"
     ]
    },
    {
     "data": {
      "text/html": [
       "<div>\n",
       "<style scoped>\n",
       "    .dataframe tbody tr th:only-of-type {\n",
       "        vertical-align: middle;\n",
       "    }\n",
       "\n",
       "    .dataframe tbody tr th {\n",
       "        vertical-align: top;\n",
       "    }\n",
       "\n",
       "    .dataframe thead th {\n",
       "        text-align: right;\n",
       "    }\n",
       "</style>\n",
       "<table border=\"1\" class=\"dataframe\">\n",
       "  <thead>\n",
       "    <tr style=\"text-align: right;\">\n",
       "      <th></th>\n",
       "      <th>Barcelona_pressure</th>\n",
       "      <th>Barcelona_rain_1h</th>\n",
       "      <th>Barcelona_rain_3h</th>\n",
       "      <th>Barcelona_temp</th>\n",
       "      <th>Barcelona_temp_max</th>\n",
       "      <th>Barcelona_temp_min</th>\n",
       "      <th>Barcelona_weather_id</th>\n",
       "      <th>Barcelona_wind_deg</th>\n",
       "      <th>Barcelona_wind_speed</th>\n",
       "      <th>Bilbao_clouds_all</th>\n",
       "      <th>...</th>\n",
       "      <th>Valencia_wind_deg</th>\n",
       "      <th>Valencia_wind_speed</th>\n",
       "      <th>load_shortfall_3h</th>\n",
       "      <th>time_day</th>\n",
       "      <th>time_dayofyear</th>\n",
       "      <th>time_hour</th>\n",
       "      <th>time_month</th>\n",
       "      <th>time_weekday</th>\n",
       "      <th>time_weeknumber</th>\n",
       "      <th>time_year</th>\n",
       "    </tr>\n",
       "  </thead>\n",
       "  <tbody>\n",
       "    <tr>\n",
       "      <th>0</th>\n",
       "      <td>1036.333333</td>\n",
       "      <td>0.0</td>\n",
       "      <td>0.0</td>\n",
       "      <td>281.013</td>\n",
       "      <td>281.013</td>\n",
       "      <td>281.013</td>\n",
       "      <td>800.0</td>\n",
       "      <td>42.666667</td>\n",
       "      <td>6.333333</td>\n",
       "      <td>0.0</td>\n",
       "      <td>...</td>\n",
       "      <td>5</td>\n",
       "      <td>0.666667</td>\n",
       "      <td>6715.666667</td>\n",
       "      <td>1</td>\n",
       "      <td>1</td>\n",
       "      <td>3</td>\n",
       "      <td>1</td>\n",
       "      <td>3</td>\n",
       "      <td>1</td>\n",
       "      <td>2015</td>\n",
       "    </tr>\n",
       "  </tbody>\n",
       "</table>\n",
       "<p>1 rows × 54 columns</p>\n",
       "</div>"
      ],
      "text/plain": [
       "   Barcelona_pressure  Barcelona_rain_1h  Barcelona_rain_3h  Barcelona_temp  \\\n",
       "0         1036.333333                0.0                0.0         281.013   \n",
       "\n",
       "   Barcelona_temp_max  Barcelona_temp_min  Barcelona_weather_id  \\\n",
       "0             281.013             281.013                 800.0   \n",
       "\n",
       "   Barcelona_wind_deg  Barcelona_wind_speed  Bilbao_clouds_all  ...  \\\n",
       "0           42.666667              6.333333                0.0  ...   \n",
       "\n",
       "   Valencia_wind_deg  Valencia_wind_speed  load_shortfall_3h  time_day  \\\n",
       "0                  5             0.666667        6715.666667         1   \n",
       "\n",
       "   time_dayofyear  time_hour  time_month  time_weekday  time_weeknumber  \\\n",
       "0               1          3           1             3                1   \n",
       "\n",
       "   time_year  \n",
       "0       2015  \n",
       "\n",
       "[1 rows x 54 columns]"
      ]
     },
     "execution_count": 200,
     "metadata": {},
     "output_type": "execute_result"
    }
   ],
   "source": [
    "# Function to describe variable (including mode and median)\n",
    "\n",
    "def describe(df):\n",
    "    d = {0:[df.mean(), df.median(), df.mode()[0]]}\n",
    "    dat = pd.DataFrame(data=d).rename(index={0: \"Mean\", 1: \"Median\", 2: \"Mode\"})\n",
    "    return pd.concat([df.describe(), dat])\n",
    "\n",
    "# Deal with null containing column(s)\n",
    "\n",
    "df_train_clean = df_train.copy()\n",
    "df_train_clean[\"Valencia_pressure\"] = df_train_clean[\"Valencia_pressure\"].fillna(df_train_clean[\"Valencia_pressure\"].mode()[0])\n",
    "print('', end=\"\\n\\n\")\n",
    "\n",
    "# Convert object dtypes to float\n",
    "\n",
    "df_train_clean[\"Valencia_wind_deg\"] = df_train_clean[\"Valencia_wind_deg\"].str.extract(\"(\\d+)\").astype(int)\n",
    "df_train_clean[\"Seville_pressure\"] = df_train_clean[\"Seville_pressure\"].str.extract(\"(\\d+)\").astype(int)\n",
    "df_train_clean[\"time\"] = pd.to_datetime(df_train_clean[\"time\"])\n",
    "\n",
    "# extract features from date\n",
    "\n",
    "df_train_clean[\"time_year\"] = df_train_clean[\"time\"].dt.year.astype(int)\n",
    "df_train_clean[\"time_month\"] = df_train_clean[\"time\"].dt.month.astype(int)\n",
    "df_train_clean[\"time_day\"] = df_train_clean[\"time\"].dt.day.astype(int)\n",
    "df_train_clean['time_dayofyear'] = df_train_clean['time'].dt.dayofyear.astype(int)\n",
    "df_train_clean[\"time_hour\"] = df_train_clean[\"time\"].dt.hour.astype(int)\n",
    "df_train_clean[\"time_weekday\"] = df_train_clean[\"time\"].dt.weekday.astype(int) # Monday is 0 and Sunday is 6\n",
    "df_train_clean[\"time_weeknumber\"] = df_train_clean[\"time\"].dt.week.astype(int)\n",
    "\n",
    "# Sort columns and drop noise (\"time\")\n",
    "\n",
    "df_train_clean_sort = df_train_clean[sorted(df_train_clean)]\n",
    "df_train_clean_sort = df_train_clean_sort.drop(labels=\"time\", axis=1)\n",
    "df_train_clean_sort.head(1)"
   ]
  },
  {
   "cell_type": "code",
   "execution_count": 201,
   "id": "e8496cc2-af85-442d-af81-5128a880bade",
   "metadata": {},
   "outputs": [
    {
     "data": {
      "text/html": [
       "<div>\n",
       "<style scoped>\n",
       "    .dataframe tbody tr th:only-of-type {\n",
       "        vertical-align: middle;\n",
       "    }\n",
       "\n",
       "    .dataframe tbody tr th {\n",
       "        vertical-align: top;\n",
       "    }\n",
       "\n",
       "    .dataframe thead th {\n",
       "        text-align: right;\n",
       "    }\n",
       "</style>\n",
       "<table border=\"1\" class=\"dataframe\">\n",
       "  <thead>\n",
       "    <tr style=\"text-align: right;\">\n",
       "      <th></th>\n",
       "      <th>Barcelona_temp_min</th>\n",
       "      <th>Bilbao_temp_min</th>\n",
       "      <th>Madrid_temp_min</th>\n",
       "      <th>Seville_temp_min</th>\n",
       "      <th>Valencia_temp_min</th>\n",
       "      <th>Mean_temp_min</th>\n",
       "    </tr>\n",
       "  </thead>\n",
       "  <tbody>\n",
       "    <tr>\n",
       "      <th>0</th>\n",
       "      <td>281.013</td>\n",
       "      <td>269.338615</td>\n",
       "      <td>265.938</td>\n",
       "      <td>274.254667</td>\n",
       "      <td>269.888</td>\n",
       "      <td>272.086456</td>\n",
       "    </tr>\n",
       "  </tbody>\n",
       "</table>\n",
       "</div>"
      ],
      "text/plain": [
       "   Barcelona_temp_min  Bilbao_temp_min  Madrid_temp_min  Seville_temp_min  \\\n",
       "0             281.013       269.338615          265.938        274.254667   \n",
       "\n",
       "   Valencia_temp_min  Mean_temp_min  \n",
       "0            269.888     272.086456  "
      ]
     },
     "execution_count": 201,
     "metadata": {},
     "output_type": "execute_result"
    },
    {
     "data": {
      "text/html": [
       "<div>\n",
       "<style scoped>\n",
       "    .dataframe tbody tr th:only-of-type {\n",
       "        vertical-align: middle;\n",
       "    }\n",
       "\n",
       "    .dataframe tbody tr th {\n",
       "        vertical-align: top;\n",
       "    }\n",
       "\n",
       "    .dataframe thead th {\n",
       "        text-align: right;\n",
       "    }\n",
       "</style>\n",
       "<table border=\"1\" class=\"dataframe\">\n",
       "  <thead>\n",
       "    <tr style=\"text-align: right;\">\n",
       "      <th></th>\n",
       "      <th>Barcelona_wind_deg</th>\n",
       "      <th>Bilbao_wind_deg</th>\n",
       "      <th>Mean_wind_deg1</th>\n",
       "    </tr>\n",
       "  </thead>\n",
       "  <tbody>\n",
       "    <tr>\n",
       "      <th>0</th>\n",
       "      <td>42.666667</td>\n",
       "      <td>223.333333</td>\n",
       "      <td>133.0</td>\n",
       "    </tr>\n",
       "  </tbody>\n",
       "</table>\n",
       "</div>"
      ],
      "text/plain": [
       "   Barcelona_wind_deg  Bilbao_wind_deg  Mean_wind_deg1\n",
       "0           42.666667       223.333333           133.0"
      ]
     },
     "execution_count": 201,
     "metadata": {},
     "output_type": "execute_result"
    },
    {
     "data": {
      "text/html": [
       "<div>\n",
       "<style scoped>\n",
       "    .dataframe tbody tr th:only-of-type {\n",
       "        vertical-align: middle;\n",
       "    }\n",
       "\n",
       "    .dataframe tbody tr th {\n",
       "        vertical-align: top;\n",
       "    }\n",
       "\n",
       "    .dataframe thead th {\n",
       "        text-align: right;\n",
       "    }\n",
       "</style>\n",
       "<table border=\"1\" class=\"dataframe\">\n",
       "  <thead>\n",
       "    <tr style=\"text-align: right;\">\n",
       "      <th></th>\n",
       "      <th>Madrid_humidity</th>\n",
       "      <th>Seville_humidity</th>\n",
       "      <th>Valencia_humidity</th>\n",
       "      <th>Mean_humidity</th>\n",
       "    </tr>\n",
       "  </thead>\n",
       "  <tbody>\n",
       "    <tr>\n",
       "      <th>0</th>\n",
       "      <td>64.0</td>\n",
       "      <td>74.333333</td>\n",
       "      <td>75.666667</td>\n",
       "      <td>71.333333</td>\n",
       "    </tr>\n",
       "  </tbody>\n",
       "</table>\n",
       "</div>"
      ],
      "text/plain": [
       "   Madrid_humidity  Seville_humidity  Valencia_humidity  Mean_humidity\n",
       "0             64.0         74.333333          75.666667      71.333333"
      ]
     },
     "execution_count": 201,
     "metadata": {},
     "output_type": "execute_result"
    },
    {
     "data": {
      "text/html": [
       "<div>\n",
       "<style scoped>\n",
       "    .dataframe tbody tr th:only-of-type {\n",
       "        vertical-align: middle;\n",
       "    }\n",
       "\n",
       "    .dataframe tbody tr th {\n",
       "        vertical-align: top;\n",
       "    }\n",
       "\n",
       "    .dataframe thead th {\n",
       "        text-align: right;\n",
       "    }\n",
       "</style>\n",
       "<table border=\"1\" class=\"dataframe\">\n",
       "  <thead>\n",
       "    <tr style=\"text-align: right;\">\n",
       "      <th></th>\n",
       "      <th>Bilbao_clouds_all</th>\n",
       "      <th>Madrid_clouds_all</th>\n",
       "      <th>Seville_clouds_all</th>\n",
       "      <th>Mean_clouds_all</th>\n",
       "    </tr>\n",
       "  </thead>\n",
       "  <tbody>\n",
       "    <tr>\n",
       "      <th>0</th>\n",
       "      <td>0.0</td>\n",
       "      <td>0.0</td>\n",
       "      <td>0.0</td>\n",
       "      <td>0.0</td>\n",
       "    </tr>\n",
       "  </tbody>\n",
       "</table>\n",
       "</div>"
      ],
      "text/plain": [
       "   Bilbao_clouds_all  Madrid_clouds_all  Seville_clouds_all  Mean_clouds_all\n",
       "0                0.0                0.0                 0.0              0.0"
      ]
     },
     "execution_count": 201,
     "metadata": {},
     "output_type": "execute_result"
    },
    {
     "data": {
      "text/html": [
       "<div>\n",
       "<style scoped>\n",
       "    .dataframe tbody tr th:only-of-type {\n",
       "        vertical-align: middle;\n",
       "    }\n",
       "\n",
       "    .dataframe tbody tr th {\n",
       "        vertical-align: top;\n",
       "    }\n",
       "\n",
       "    .dataframe thead th {\n",
       "        text-align: right;\n",
       "    }\n",
       "</style>\n",
       "<table border=\"1\" class=\"dataframe\">\n",
       "  <thead>\n",
       "    <tr style=\"text-align: right;\">\n",
       "      <th></th>\n",
       "      <th>Barcelona_weather_id</th>\n",
       "      <th>Bilbao_weather_id</th>\n",
       "      <th>Madrid_weather_id</th>\n",
       "      <th>Seville_weather_id</th>\n",
       "      <th>Mean_weather_id</th>\n",
       "    </tr>\n",
       "  </thead>\n",
       "  <tbody>\n",
       "    <tr>\n",
       "      <th>0</th>\n",
       "      <td>800.0</td>\n",
       "      <td>800.0</td>\n",
       "      <td>800.0</td>\n",
       "      <td>800.0</td>\n",
       "      <td>800.0</td>\n",
       "    </tr>\n",
       "  </tbody>\n",
       "</table>\n",
       "</div>"
      ],
      "text/plain": [
       "   Barcelona_weather_id  Bilbao_weather_id  Madrid_weather_id  \\\n",
       "0                 800.0              800.0              800.0   \n",
       "\n",
       "   Seville_weather_id  Mean_weather_id  \n",
       "0               800.0            800.0  "
      ]
     },
     "execution_count": 201,
     "metadata": {},
     "output_type": "execute_result"
    },
    {
     "data": {
      "text/html": [
       "<div>\n",
       "<style scoped>\n",
       "    .dataframe tbody tr th:only-of-type {\n",
       "        vertical-align: middle;\n",
       "    }\n",
       "\n",
       "    .dataframe tbody tr th {\n",
       "        vertical-align: top;\n",
       "    }\n",
       "\n",
       "    .dataframe thead th {\n",
       "        text-align: right;\n",
       "    }\n",
       "</style>\n",
       "<table border=\"1\" class=\"dataframe\">\n",
       "  <thead>\n",
       "    <tr style=\"text-align: right;\">\n",
       "      <th></th>\n",
       "      <th>time_day</th>\n",
       "      <th>time_dayofyear</th>\n",
       "      <th>time_hour</th>\n",
       "      <th>time_month</th>\n",
       "      <th>time_weekday</th>\n",
       "      <th>time_weeknumber</th>\n",
       "      <th>time_year</th>\n",
       "      <th>time_hourofyear</th>\n",
       "    </tr>\n",
       "  </thead>\n",
       "  <tbody>\n",
       "    <tr>\n",
       "      <th>8762</th>\n",
       "      <td>31</td>\n",
       "      <td>365</td>\n",
       "      <td>21</td>\n",
       "      <td>12</td>\n",
       "      <td>6</td>\n",
       "      <td>52</td>\n",
       "      <td>2017</td>\n",
       "      <td>8757</td>\n",
       "    </tr>\n",
       "  </tbody>\n",
       "</table>\n",
       "</div>"
      ],
      "text/plain": [
       "      time_day  time_dayofyear  time_hour  time_month  time_weekday  \\\n",
       "8762        31             365         21          12             6   \n",
       "\n",
       "      time_weeknumber  time_year  time_hourofyear  \n",
       "8762               52       2017             8757  "
      ]
     },
     "execution_count": 201,
     "metadata": {},
     "output_type": "execute_result"
    }
   ],
   "source": [
    "# Variable selection\n",
    "\n",
    "x_temp_min = x_0.filter(regex=\"min$\", axis=1)\n",
    "x_temp_min[\"Mean_temp_min\"] = x_temp_min.mean(axis=1)\n",
    "x_temp_min.head(1)\n",
    "\n",
    "x_wind_deg1 = x_0.filter(regex=r'(Barcelona_wind_deg|Bilbao_wind_deg)', axis=1)\n",
    "x_wind_deg1[\"Mean_wind_deg1\"] = x_wind_deg1.mean(axis=1)\n",
    "x_wind_deg1.head(1)\n",
    "\n",
    "x_humidity = x_0.filter(regex=\"humidity\", axis=1)\n",
    "x_humidity[\"Mean_humidity\"] = x_humidity.mean(axis=1)\n",
    "x_humidity.head(1)\n",
    "\n",
    "x_clouds_all = x_0.filter(regex=\"clouds\", axis=1)\n",
    "x_clouds_all[\"Mean_clouds_all\"] = x_clouds_all.mean(axis=1)\n",
    "x_clouds_all.head(1)\n",
    "\n",
    "x_weather_id = x_0.filter(regex=\"weather\", axis=1)\n",
    "x_weather_id[\"Mean_weather_id\"] = x_weather_id.mean(axis=1)\n",
    "x_weather_id.head(1)\n",
    "\n",
    "x_time = x_0.filter(regex=\"time\", axis=1)\n",
    "x_time[\"time_hourofyear\"] = x_time[\"time_hour\"] + ((x_time[\"time_dayofyear\"] - 1) * 24)\n",
    "x_time.tail(1)"
   ]
  },
  {
   "cell_type": "code",
   "execution_count": 202,
   "id": "d0b6c79c-f8e3-44cc-a2dc-a71b37d7bdff",
   "metadata": {},
   "outputs": [
    {
     "data": {
      "text/html": [
       "<div>\n",
       "<style scoped>\n",
       "    .dataframe tbody tr th:only-of-type {\n",
       "        vertical-align: middle;\n",
       "    }\n",
       "\n",
       "    .dataframe tbody tr th {\n",
       "        vertical-align: top;\n",
       "    }\n",
       "\n",
       "    .dataframe thead th {\n",
       "        text-align: right;\n",
       "    }\n",
       "</style>\n",
       "<table border=\"1\" class=\"dataframe\">\n",
       "  <thead>\n",
       "    <tr style=\"text-align: right;\">\n",
       "      <th></th>\n",
       "      <th>time_hourofyear</th>\n",
       "      <th>Mean_temp_min</th>\n",
       "      <th>Mean_wind_deg1</th>\n",
       "      <th>Mean_humidity</th>\n",
       "      <th>Mean_clouds_all</th>\n",
       "      <th>Mean_weather_id</th>\n",
       "    </tr>\n",
       "  </thead>\n",
       "  <tbody>\n",
       "    <tr>\n",
       "      <th>0</th>\n",
       "      <td>3</td>\n",
       "      <td>272.086456</td>\n",
       "      <td>133.0</td>\n",
       "      <td>71.333333</td>\n",
       "      <td>0.0</td>\n",
       "      <td>800.0</td>\n",
       "    </tr>\n",
       "  </tbody>\n",
       "</table>\n",
       "</div>"
      ],
      "text/plain": [
       "   time_hourofyear  Mean_temp_min  Mean_wind_deg1  Mean_humidity  \\\n",
       "0                3     272.086456           133.0      71.333333   \n",
       "\n",
       "   Mean_clouds_all  Mean_weather_id  \n",
       "0              0.0            800.0  "
      ]
     },
     "execution_count": 202,
     "metadata": {},
     "output_type": "execute_result"
    },
    {
     "data": {
      "text/plain": [
       "(8763, 6)"
      ]
     },
     "execution_count": 202,
     "metadata": {},
     "output_type": "execute_result"
    }
   ],
   "source": [
    "x_select = x_time[[\"time_hourofyear\"]].join(other = [x_temp_min[\"Mean_temp_min\"], x_wind_deg1[\"Mean_wind_deg1\"],\n",
    "                                                         x_humidity[\"Mean_humidity\"], x_clouds_all[\"Mean_clouds_all\"],\n",
    "                                                         x_weather_id[\"Mean_weather_id\"]])\n",
    "x_select.head(1)\n",
    "x_select.shape"
   ]
  },
  {
   "cell_type": "markdown",
   "id": "e75a89eb-f512-417c-bf42-42198116d2f3",
   "metadata": {
    "jp-MarkdownHeadingCollapsed": true,
    "tags": []
   },
   "source": [
    "## Transform data function"
   ]
  },
  {
   "cell_type": "code",
   "execution_count": 114,
   "id": "d82390a6-d0e2-49ea-b3b2-a5de40ce8fa2",
   "metadata": {},
   "outputs": [],
   "source": [
    "def transform_alltime(csv):\n",
    "    a = pd.read_csv(csv)\n",
    "    \n",
    "    # Convert object dtypes to float\n",
    "    a[\"time\"] = pd.to_datetime(a[\"time\"])\n",
    "    \n",
    "    # extract features from date\n",
    "    a[\"time_year\"] = a[\"time\"].dt.year.astype(int)\n",
    "    a[\"time_month\"] = a[\"time\"].dt.month.astype(int)\n",
    "    a[\"time_day\"] = a[\"time\"].dt.day.astype(int)\n",
    "    a['time_dayofyear'] = a['time'].dt.dayofyear.astype(int)\n",
    "    a[\"time_hour\"] = a[\"time\"].dt.hour.astype(int)\n",
    "    a[\"time_weekday\"] = a[\"time\"].dt.weekday.astype(int) # Monday is 0 and Sunday is 6\n",
    "    a[\"time_weeknumber\"] = a[\"time\"].dt.week.astype(int)\n",
    "    \n",
    "    # Sort columns and drop noise (\"time\")\n",
    "    b = a[sorted(a)]\n",
    "    b = b.drop(labels=\"time\", axis=1)\n",
    "    \n",
    "    # Mean of variables\n",
    "    c = b.filter(regex=\"min$\", axis=1)\n",
    "    c[\"Mean_temp_min\"] = c.mean(axis=1)\n",
    "    \n",
    "    d = b.filter(regex=r'(Barcelona_wind_deg|Bilbao_wind_deg)', axis=1)\n",
    "    d[\"Mean_wind_deg1\"] = d.mean(axis=1)\n",
    "    \n",
    "    e = b.filter(regex=\"humidity\", axis=1)\n",
    "    e[\"Mean_humidity\"] = e.mean(axis=1)\n",
    "    \n",
    "    f = b.filter(regex=\"clouds\", axis=1)\n",
    "    f[\"Mean_clouds_all\"] = f.mean(axis=1)\n",
    "    \n",
    "    g = b.filter(regex=\"weather\", axis=1)\n",
    "    g[\"Mean_weather_id\"] = g.mean(axis=1)\n",
    "    \n",
    "    h = b.filter(regex=\"time\", axis=1)\n",
    "    h[\"time_hourofyear\"] = h[\"time_hour\"] + ((h[\"time_dayofyear\"] - 1) * 24)\n",
    "    \n",
    "    final = h.join(other = [c[\"Mean_temp_min\"], d[\"Mean_wind_deg1\"],\n",
    "                                                 e[\"Mean_humidity\"], f[\"Mean_clouds_all\"],\n",
    "                                                 g[\"Mean_weather_id\"]])\n",
    "    \n",
    "    return final\n",
    "\n",
    "def transform_HofY(csv):\n",
    "    a = pd.read_csv(csv)\n",
    "    \n",
    "    # Convert object dtypes to float\n",
    "    a[\"time\"] = pd.to_datetime(a[\"time\"])\n",
    "    \n",
    "    # extract features from date\n",
    "    a[\"time_year\"] = a[\"time\"].dt.year.astype(int)\n",
    "    a[\"time_month\"] = a[\"time\"].dt.month.astype(int)\n",
    "    a[\"time_day\"] = a[\"time\"].dt.day.astype(int)\n",
    "    a['time_dayofyear'] = a['time'].dt.dayofyear.astype(int)\n",
    "    a[\"time_hour\"] = a[\"time\"].dt.hour.astype(int)\n",
    "    a[\"time_weekday\"] = a[\"time\"].dt.weekday.astype(int) # Monday is 0 and Sunday is 6\n",
    "    a[\"time_weeknumber\"] = a[\"time\"].dt.week.astype(int)\n",
    "    \n",
    "    # Sort columns and drop noise (\"time\")\n",
    "    b = a[sorted(a)]\n",
    "    b = b.drop(labels=\"time\", axis=1)\n",
    "    \n",
    "    # Mean of variables\n",
    "    c = b.filter(regex=\"min$\", axis=1)\n",
    "    c[\"Mean_temp_min\"] = c.mean(axis=1)\n",
    "    \n",
    "    d = b.filter(regex=r'(Barcelona_wind_deg|Bilbao_wind_deg)', axis=1)\n",
    "    d[\"Mean_wind_deg1\"] = d.mean(axis=1)\n",
    "    \n",
    "    e = b.filter(regex=\"humidity\", axis=1)\n",
    "    e[\"Mean_humidity\"] = e.mean(axis=1)\n",
    "    \n",
    "    f = b.filter(regex=\"clouds\", axis=1)\n",
    "    f[\"Mean_clouds_all\"] = f.mean(axis=1)\n",
    "    \n",
    "    g = b.filter(regex=\"weather\", axis=1)\n",
    "    g[\"Mean_weather_id\"] = g.mean(axis=1)\n",
    "    \n",
    "    h = b.filter(regex=\"time\", axis=1)\n",
    "    h[\"time_hourofyear\"] = h[\"time_hour\"] + ((h[\"time_dayofyear\"] - 1) * 24)\n",
    "    \n",
    "    final = h[[\"time_hourofyear\"]].join(other = [c[\"Mean_temp_min\"], d[\"Mean_wind_deg1\"],\n",
    "                                                 e[\"Mean_humidity\"], f[\"Mean_clouds_all\"],\n",
    "                                                 g[\"Mean_weather_id\"]])\n",
    "    \n",
    "    return final"
   ]
  },
  {
   "cell_type": "markdown",
   "id": "c0dcbf5b-d76e-44a1-8fba-7cd6fb8aeb66",
   "metadata": {
    "jp-MarkdownHeadingCollapsed": true,
    "tags": []
   },
   "source": [
    "## Functions"
   ]
  },
  {
   "cell_type": "code",
   "execution_count": 52,
   "id": "7eac8c76-4e6a-412d-a7dd-f1904c4dc5c0",
   "metadata": {},
   "outputs": [],
   "source": [
    "# Normalize Data\n",
    "def Normalize(df):\n",
    "    scaler = MinMaxScaler()\n",
    "    x_scaled = scaler.fit_transform(df)\n",
    "    x_normalize = pd.DataFrame(x_scaled, columns=df.columns)\n",
    "    return x_normalize"
   ]
  },
  {
   "cell_type": "code",
   "execution_count": 35,
   "id": "22da1186-9c38-4152-8420-571bcf1c4575",
   "metadata": {},
   "outputs": [],
   "source": [
    "# Fit model\n",
    "def fit_model(df, y=y_0):\n",
    "    df_fit = df.copy()\n",
    "    y_name = ''.join([col for col in y.columns])\n",
    "    X_name = [col for col in df_fit.columns]\n",
    "\n",
    "    # Build OLS formula string \" y ~ X \"\n",
    "\n",
    "    formula_str = y_name+\" ~ \"+\" + \".join(X_name)\n",
    "\n",
    "    model = sfa.ols(formula=formula_str, data=df_fit.join(y))\n",
    "    fitted = model.fit()\n",
    "    print(fitted.summary())"
   ]
  },
  {
   "cell_type": "code",
   "execution_count": 53,
   "id": "cb01f3ef-801b-4a99-a2e8-fcc106e696eb",
   "metadata": {},
   "outputs": [],
   "source": [
    "# Standardize\n",
    "def standardize(df):\n",
    "    # Create scaler object\n",
    "    scaler = StandardScaler()\n",
    "\n",
    "    # Create scaled version of the predictors (there is no need to scale the response)\n",
    "    X_scaled = scaler.fit_transform(df)\n",
    "\n",
    "    # Convert the scaled predictor values into a dataframe\n",
    "    X_standardise = pd.DataFrame(X_scaled,columns=df.columns)\n",
    "    return X_standardise"
   ]
  },
  {
   "cell_type": "code",
   "execution_count": 187,
   "id": "f351cc59-7298-4cef-b6f4-d3266c800083",
   "metadata": {},
   "outputs": [],
   "source": [
    "# Train data using Ridge\n",
    "def ridge_train(x, y):\n",
    "    X_train, X_test, y_train, y_test = train_test_split(x,\n",
    "                                                        y[\"load_shortfall_3h\"], \n",
    "                                                        test_size=0.2, \n",
    "                                                        shuffle=False)\n",
    "    ridge = Ridge()\n",
    "    ridge.fit(X_train, y_train)\n",
    "    b0 = float(ridge.intercept_)\n",
    "    coeff = pd.DataFrame(ridge.coef_, x_select.columns, columns=['Coefficient'])\n",
    "\n",
    "    print(\"Intercept:\", float(b0))\n",
    "    return coeff"
   ]
  },
  {
   "cell_type": "code",
   "execution_count": 188,
   "id": "eebbbbae-6115-4492-8585-a31ec9cfcda2",
   "metadata": {},
   "outputs": [],
   "source": [
    "# Fit a basic linear model\n",
    "def model_accuracy(x, y, choice=LinearRegression()):\n",
    "    X_train, X_test, y_train, y_test = train_test_split(x,\n",
    "                                                        y[\"load_shortfall_3h\"], \n",
    "                                                        test_size=0.2, \n",
    "                                                        shuffle=False)\n",
    "    model_object = choice\n",
    "    model_object.fit(X_train, y_train)\n",
    "    train_pred = model_object.predict(X_train)\n",
    "    test_pred = model_object.predict(X_test)\n",
    "    \n",
    "    print('Training RMSE:', np.sqrt(metrics.mean_squared_error(y_train, train_pred)))\n",
    "    print('Model is, on average,', round(np.sqrt(metrics.mean_squared_error(y_train, train_pred))),'off prediction for training data')\n",
    "    \n",
    "    print('', end=\"\\n\")\n",
    "    print('Training R_squared:', r2_score(y_train, train_pred))\n",
    "    print('Model is good', \"{:.0%}\".format(r2_score(y_train, train_pred)), 'of the time')\n",
    "\n",
    "    print('', end=\"\\n\")\n",
    "    print('Testing RMSE:', np.sqrt(metrics.mean_squared_error(y_test, test_pred)))\n",
    "    print('Model is , on average,', round(np.sqrt(metrics.mean_squared_error(y_test, test_pred))),'off prediction for testing data')\n",
    "    \n",
    "    print('', end=\"\\n\")\n",
    "    print('Testing R_squared:', r2_score(y_test, test_pred))\n",
    "    print('Model is good', \"{:.0%}\".format(r2_score(y_test, test_pred)), 'of the time')"
   ]
  },
  {
   "cell_type": "code",
   "execution_count": 156,
   "id": "580412e4-34a2-42f3-b313-304d36c850d0",
   "metadata": {},
   "outputs": [],
   "source": [
    "# Predict Unseen\n",
    "def predict_unseen(x, y, df_unseen, choice=LinearRegression()):\n",
    "    X_train = x\n",
    "    y_train = y[\"load_shortfall_3h\"]\n",
    "    X_test = df_unseen\n",
    "    model_object = choice\n",
    "    model_object.fit(X_train, y_train)\n",
    "    predictions = model_object.predict(df_unseen)\n",
    "    return predictions"
   ]
  },
  {
   "cell_type": "code",
   "execution_count": 66,
   "id": "a74bfd04-88bb-4fec-b9cd-c129fe4e351d",
   "metadata": {},
   "outputs": [],
   "source": [
    "# Save submission\n",
    "def save_sub(series, time=\"df_test.csv\", file=\"sample_submission_load_shortfall.csv\"):\n",
    "    my_series = pd.Series(series)\n",
    "    load_shortfall_3h = my_series.to_frame()\n",
    "    load_shortfall_3h = load_shortfall_3h.rename(columns = {0:'load_shortfall_3h'})\n",
    "    time = pd.read_csv(time)[[\"time\"]]\n",
    "    sample = time.join(other = load_shortfall_3h)\n",
    "    sample.to_csv(file, index=False)"
   ]
  },
  {
   "cell_type": "markdown",
   "id": "9827b282-d02e-48ae-809b-5617f5bddcc4",
   "metadata": {
    "tags": []
   },
   "source": [
    "## Work"
   ]
  },
  {
   "cell_type": "code",
   "execution_count": 70,
   "id": "837e7fd8-cadb-4efc-855c-7b8e217c3acb",
   "metadata": {},
   "outputs": [
    {
     "data": {
      "text/html": [
       "<div>\n",
       "<style scoped>\n",
       "    .dataframe tbody tr th:only-of-type {\n",
       "        vertical-align: middle;\n",
       "    }\n",
       "\n",
       "    .dataframe tbody tr th {\n",
       "        vertical-align: top;\n",
       "    }\n",
       "\n",
       "    .dataframe thead th {\n",
       "        text-align: right;\n",
       "    }\n",
       "</style>\n",
       "<table border=\"1\" class=\"dataframe\">\n",
       "  <thead>\n",
       "    <tr style=\"text-align: right;\">\n",
       "      <th></th>\n",
       "      <th>load_shortfall_3h</th>\n",
       "    </tr>\n",
       "  </thead>\n",
       "  <tbody>\n",
       "    <tr>\n",
       "      <th>0</th>\n",
       "      <td>6715.666667</td>\n",
       "    </tr>\n",
       "  </tbody>\n",
       "</table>\n",
       "</div>"
      ],
      "text/plain": [
       "   load_shortfall_3h\n",
       "0        6715.666667"
      ]
     },
     "execution_count": 70,
     "metadata": {},
     "output_type": "execute_result"
    }
   ],
   "source": [
    "y_0 = pd.read_csv(\"df_train.csv\")[[\"load_shortfall_3h\"]]\n",
    "\n",
    "y_0.head(1)"
   ]
  },
  {
   "cell_type": "code",
   "execution_count": 102,
   "id": "c8872889-3726-4495-8002-646354cb934b",
   "metadata": {},
   "outputs": [
    {
     "data": {
      "text/html": [
       "<div>\n",
       "<style scoped>\n",
       "    .dataframe tbody tr th:only-of-type {\n",
       "        vertical-align: middle;\n",
       "    }\n",
       "\n",
       "    .dataframe tbody tr th {\n",
       "        vertical-align: top;\n",
       "    }\n",
       "\n",
       "    .dataframe thead th {\n",
       "        text-align: right;\n",
       "    }\n",
       "</style>\n",
       "<table border=\"1\" class=\"dataframe\">\n",
       "  <thead>\n",
       "    <tr style=\"text-align: right;\">\n",
       "      <th></th>\n",
       "      <th>time_hourofyear</th>\n",
       "      <th>Mean_temp_min</th>\n",
       "      <th>Mean_wind_deg1</th>\n",
       "      <th>Mean_humidity</th>\n",
       "      <th>Mean_clouds_all</th>\n",
       "      <th>Mean_weather_id</th>\n",
       "    </tr>\n",
       "  </thead>\n",
       "  <tbody>\n",
       "    <tr>\n",
       "      <th>0</th>\n",
       "      <td>3</td>\n",
       "      <td>272.086456</td>\n",
       "      <td>133.0</td>\n",
       "      <td>71.333333</td>\n",
       "      <td>0.0</td>\n",
       "      <td>800.0</td>\n",
       "    </tr>\n",
       "  </tbody>\n",
       "</table>\n",
       "</div>"
      ],
      "text/plain": [
       "   time_hourofyear  Mean_temp_min  Mean_wind_deg1  Mean_humidity  \\\n",
       "0                3     272.086456           133.0      71.333333   \n",
       "\n",
       "   Mean_clouds_all  Mean_weather_id  \n",
       "0              0.0            800.0  "
      ]
     },
     "execution_count": 102,
     "metadata": {},
     "output_type": "execute_result"
    },
    {
     "data": {
      "text/plain": [
       "(8763, 6)"
      ]
     },
     "execution_count": 102,
     "metadata": {},
     "output_type": "execute_result"
    }
   ],
   "source": [
    "x_seen = transform_HofY(\"df_train.csv\")\n",
    "x_seen.head(1)\n",
    "x_seen.shape"
   ]
  },
  {
   "cell_type": "code",
   "execution_count": 101,
   "id": "755c04cd-e753-4b1e-9c78-aee39ceebc54",
   "metadata": {},
   "outputs": [
    {
     "data": {
      "text/html": [
       "<div>\n",
       "<style scoped>\n",
       "    .dataframe tbody tr th:only-of-type {\n",
       "        vertical-align: middle;\n",
       "    }\n",
       "\n",
       "    .dataframe tbody tr th {\n",
       "        vertical-align: top;\n",
       "    }\n",
       "\n",
       "    .dataframe thead th {\n",
       "        text-align: right;\n",
       "    }\n",
       "</style>\n",
       "<table border=\"1\" class=\"dataframe\">\n",
       "  <thead>\n",
       "    <tr style=\"text-align: right;\">\n",
       "      <th></th>\n",
       "      <th>time_hourofyear</th>\n",
       "      <th>Mean_temp_min</th>\n",
       "      <th>Mean_wind_deg1</th>\n",
       "      <th>Mean_humidity</th>\n",
       "      <th>Mean_clouds_all</th>\n",
       "      <th>Mean_weather_id</th>\n",
       "    </tr>\n",
       "  </thead>\n",
       "  <tbody>\n",
       "    <tr>\n",
       "      <th>0</th>\n",
       "      <td>0</td>\n",
       "      <td>282.55</td>\n",
       "      <td>185.0</td>\n",
       "      <td>68.222222</td>\n",
       "      <td>6.666667</td>\n",
       "      <td>800.25</td>\n",
       "    </tr>\n",
       "  </tbody>\n",
       "</table>\n",
       "</div>"
      ],
      "text/plain": [
       "   time_hourofyear  Mean_temp_min  Mean_wind_deg1  Mean_humidity  \\\n",
       "0                0         282.55           185.0      68.222222   \n",
       "\n",
       "   Mean_clouds_all  Mean_weather_id  \n",
       "0         6.666667           800.25  "
      ]
     },
     "execution_count": 101,
     "metadata": {},
     "output_type": "execute_result"
    },
    {
     "data": {
      "text/plain": [
       "(2920, 6)"
      ]
     },
     "execution_count": 101,
     "metadata": {},
     "output_type": "execute_result"
    }
   ],
   "source": [
    "x_unseen = transform_HofY(\"df_test.csv\")\n",
    "x_unseen.head(1)\n",
    "x_unseen.shape"
   ]
  },
  {
   "cell_type": "code",
   "execution_count": 204,
   "id": "a002aeb9-b077-420b-b2c4-02652b8de095",
   "metadata": {},
   "outputs": [
    {
     "data": {
      "text/html": [
       "<div>\n",
       "<style scoped>\n",
       "    .dataframe tbody tr th:only-of-type {\n",
       "        vertical-align: middle;\n",
       "    }\n",
       "\n",
       "    .dataframe tbody tr th {\n",
       "        vertical-align: top;\n",
       "    }\n",
       "\n",
       "    .dataframe thead th {\n",
       "        text-align: right;\n",
       "    }\n",
       "</style>\n",
       "<table border=\"1\" class=\"dataframe\">\n",
       "  <thead>\n",
       "    <tr style=\"text-align: right;\">\n",
       "      <th></th>\n",
       "      <th>time_hourofyear</th>\n",
       "      <th>Mean_temp_min</th>\n",
       "      <th>Mean_wind_deg1</th>\n",
       "      <th>Mean_humidity</th>\n",
       "      <th>Mean_clouds_all</th>\n",
       "      <th>Mean_weather_id</th>\n",
       "    </tr>\n",
       "  </thead>\n",
       "  <tbody>\n",
       "    <tr>\n",
       "      <th>0</th>\n",
       "      <td>0.000342</td>\n",
       "      <td>0.02766</td>\n",
       "      <td>0.387191</td>\n",
       "      <td>0.661842</td>\n",
       "      <td>0.0</td>\n",
       "      <td>0.988095</td>\n",
       "    </tr>\n",
       "  </tbody>\n",
       "</table>\n",
       "</div>"
      ],
      "text/plain": [
       "   time_hourofyear  Mean_temp_min  Mean_wind_deg1  Mean_humidity  \\\n",
       "0         0.000342        0.02766        0.387191       0.661842   \n",
       "\n",
       "   Mean_clouds_all  Mean_weather_id  \n",
       "0              0.0         0.988095  "
      ]
     },
     "execution_count": 204,
     "metadata": {},
     "output_type": "execute_result"
    }
   ],
   "source": [
    "Normalize(x_seen).head(1)"
   ]
  },
  {
   "cell_type": "code",
   "execution_count": 205,
   "id": "5621c270-20f9-4eee-a18d-828f2963522a",
   "metadata": {},
   "outputs": [
    {
     "data": {
      "text/html": [
       "<div>\n",
       "<style scoped>\n",
       "    .dataframe tbody tr th:only-of-type {\n",
       "        vertical-align: middle;\n",
       "    }\n",
       "\n",
       "    .dataframe tbody tr th {\n",
       "        vertical-align: top;\n",
       "    }\n",
       "\n",
       "    .dataframe thead th {\n",
       "        text-align: right;\n",
       "    }\n",
       "</style>\n",
       "<table border=\"1\" class=\"dataframe\">\n",
       "  <thead>\n",
       "    <tr style=\"text-align: right;\">\n",
       "      <th></th>\n",
       "      <th>time_hourofyear</th>\n",
       "      <th>Mean_temp_min</th>\n",
       "      <th>Mean_wind_deg1</th>\n",
       "      <th>Mean_humidity</th>\n",
       "      <th>Mean_clouds_all</th>\n",
       "      <th>Mean_weather_id</th>\n",
       "    </tr>\n",
       "  </thead>\n",
       "  <tbody>\n",
       "    <tr>\n",
       "      <th>0</th>\n",
       "      <td>-1.731947</td>\n",
       "      <td>-2.340125</td>\n",
       "      <td>-0.621239</td>\n",
       "      <td>0.513853</td>\n",
       "      <td>-1.302834</td>\n",
       "      <td>0.744832</td>\n",
       "    </tr>\n",
       "  </tbody>\n",
       "</table>\n",
       "</div>"
      ],
      "text/plain": [
       "   time_hourofyear  Mean_temp_min  Mean_wind_deg1  Mean_humidity  \\\n",
       "0        -1.731947      -2.340125       -0.621239       0.513853   \n",
       "\n",
       "   Mean_clouds_all  Mean_weather_id  \n",
       "0        -1.302834         0.744832  "
      ]
     },
     "execution_count": 205,
     "metadata": {},
     "output_type": "execute_result"
    }
   ],
   "source": [
    "standardize(x_seen).head(1)"
   ]
  },
  {
   "cell_type": "code",
   "execution_count": 206,
   "id": "952fb089-7d8c-4ce9-96b8-498c74499097",
   "metadata": {},
   "outputs": [
    {
     "name": "stdout",
     "output_type": "stream",
     "text": [
      "Intercept: -23143.27963783583\n"
     ]
    },
    {
     "data": {
      "text/html": [
       "<div>\n",
       "<style scoped>\n",
       "    .dataframe tbody tr th:only-of-type {\n",
       "        vertical-align: middle;\n",
       "    }\n",
       "\n",
       "    .dataframe tbody tr th {\n",
       "        vertical-align: top;\n",
       "    }\n",
       "\n",
       "    .dataframe thead th {\n",
       "        text-align: right;\n",
       "    }\n",
       "</style>\n",
       "<table border=\"1\" class=\"dataframe\">\n",
       "  <thead>\n",
       "    <tr style=\"text-align: right;\">\n",
       "      <th></th>\n",
       "      <th>Coefficient</th>\n",
       "    </tr>\n",
       "  </thead>\n",
       "  <tbody>\n",
       "    <tr>\n",
       "      <th>time_hourofyear</th>\n",
       "      <td>0.237741</td>\n",
       "    </tr>\n",
       "    <tr>\n",
       "      <th>Mean_temp_min</th>\n",
       "      <td>98.086223</td>\n",
       "    </tr>\n",
       "    <tr>\n",
       "      <th>Mean_wind_deg1</th>\n",
       "      <td>-10.429098</td>\n",
       "    </tr>\n",
       "    <tr>\n",
       "      <th>Mean_humidity</th>\n",
       "      <td>18.171724</td>\n",
       "    </tr>\n",
       "    <tr>\n",
       "      <th>Mean_clouds_all</th>\n",
       "      <td>-7.109671</td>\n",
       "    </tr>\n",
       "    <tr>\n",
       "      <th>Mean_weather_id</th>\n",
       "      <td>6.626397</td>\n",
       "    </tr>\n",
       "  </tbody>\n",
       "</table>\n",
       "</div>"
      ],
      "text/plain": [
       "                 Coefficient\n",
       "time_hourofyear     0.237741\n",
       "Mean_temp_min      98.086223\n",
       "Mean_wind_deg1    -10.429098\n",
       "Mean_humidity      18.171724\n",
       "Mean_clouds_all    -7.109671\n",
       "Mean_weather_id     6.626397"
      ]
     },
     "execution_count": 206,
     "metadata": {},
     "output_type": "execute_result"
    }
   ],
   "source": [
    "ridge_train(x_seen, y_0)"
   ]
  },
  {
   "cell_type": "code",
   "execution_count": 203,
   "id": "a5f10bc3-0c47-49a7-bb7a-f2b9cdc98fd0",
   "metadata": {},
   "outputs": [
    {
     "name": "stdout",
     "output_type": "stream",
     "text": [
      "Training RMSE: 1399.6761063180345\n",
      "Model is, on average, 1400 off prediction for training data\n",
      "\n",
      "Training R_squared: 0.9263018267182026\n",
      "Model is good 93% of the time\n",
      "\n",
      "Testing RMSE: 4807.425482959887\n",
      "Model is , on average, 4807 off prediction for testing data\n",
      "\n",
      "Testing R_squared: 0.028202951865606285\n",
      "Model is good 3% of the time\n"
     ]
    }
   ],
   "source": [
    "model_accuracy(x_seen, y_0, choice=RandomForestRegressor())"
   ]
  },
  {
   "cell_type": "code",
   "execution_count": 153,
   "id": "5b99811f-6654-41b1-aa98-6927c51e8e62",
   "metadata": {},
   "outputs": [],
   "source": [
    "# Get predictions of unseen data\n",
    "\n",
    "# series_L = predict_unseen(x=x_seen, y=y_0, df_unseen=x_unseen, choice=LinearRegression())\n",
    "# series_R = predict_unseen(x=x_seen, y=y_0, df_unseen=x_unseen, choice=Ridge())\n",
    "# series_Lasso = predict_unseen(x=x_seen, y=y_0, df_unseen=x_unseen, choice=Lasso())\n",
    "# series_RF = predict_unseen(x=x_seen, y=y_0, df_unseen=x_unseen, choice=RandomForestRegressor(random_state=137))\n",
    "# series_RFpar = predict_unseen(x=x_seen, y=y_0, df_unseen=x_unseen,\n",
    "#                               choice=RandomForestRegressor(n_estimators=100, max_depth=5, random_state=137))"
   ]
  },
  {
   "cell_type": "markdown",
   "id": "e74cf895-dbb6-4f51-9f58-d49c2cf4d028",
   "metadata": {},
   "source": [
    "**array([ 9839.23550254,  9874.22328293, 10176.95654912, ...,13713.97623095, 14099.32865803, 13610.03186923])**"
   ]
  },
  {
   "cell_type": "code",
   "execution_count": 154,
   "id": "aab55395-c771-48cb-8778-9a4610df1fd7",
   "metadata": {},
   "outputs": [],
   "source": [
    "# View predictions of unseen data \n",
    "\n",
    "# series_L\n",
    "# series_R\n",
    "# series_Lasso\n",
    "# series_RF\n",
    "# series_RFpar"
   ]
  },
  {
   "cell_type": "code",
   "execution_count": 208,
   "id": "efe94a73-b85f-4605-a92e-fe49dc44367b",
   "metadata": {},
   "outputs": [],
   "source": [
    "# Save in submission format\n",
    "\n",
    "# save_sub(series=series_RFpar, time=\"df_test.csv\", file=\"sub_RFpar_HofY_5topmean.csv\")"
   ]
  }
 ],
 "metadata": {
  "kernelspec": {
   "display_name": "Python 3 (ipykernel)",
   "language": "python",
   "name": "python3"
  },
  "language_info": {
   "codemirror_mode": {
    "name": "ipython",
    "version": 3
   },
   "file_extension": ".py",
   "mimetype": "text/x-python",
   "name": "python",
   "nbconvert_exporter": "python",
   "pygments_lexer": "ipython3",
   "version": "3.9.7"
  },
  "widgets": {
   "application/vnd.jupyter.widget-state+json": {
    "state": {},
    "version_major": 2,
    "version_minor": 0
   }
  }
 },
 "nbformat": 4,
 "nbformat_minor": 5
}
